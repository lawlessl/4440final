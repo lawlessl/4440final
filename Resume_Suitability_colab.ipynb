{
  "nbformat": 4,
  "nbformat_minor": 0,
  "metadata": {
    "colab": {
      "provenance": [],
      "machine_shape": "hm",
      "gpuType": "A100"
    },
    "kernelspec": {
      "name": "python3",
      "display_name": "Python 3"
    },
    "language_info": {
      "name": "python"
    },
    "accelerator": "GPU",
    "widgets": {
      "application/vnd.jupyter.widget-state+json": {
        "f7e254e2c2f7408585e19192189f4e1e": {
          "model_module": "@jupyter-widgets/controls",
          "model_name": "HBoxModel",
          "model_module_version": "1.5.0",
          "state": {
            "_dom_classes": [],
            "_model_module": "@jupyter-widgets/controls",
            "_model_module_version": "1.5.0",
            "_model_name": "HBoxModel",
            "_view_count": null,
            "_view_module": "@jupyter-widgets/controls",
            "_view_module_version": "1.5.0",
            "_view_name": "HBoxView",
            "box_style": "",
            "children": [
              "IPY_MODEL_193e3f0d374141ee9c2ed32eebaa34ef",
              "IPY_MODEL_0802e6e4360c48248fce70bb18d241de",
              "IPY_MODEL_2768ee4da02c4f0aa9011a96e81a0dcb"
            ],
            "layout": "IPY_MODEL_42fa05b4bf26423b951189b60ed5edfd"
          }
        },
        "193e3f0d374141ee9c2ed32eebaa34ef": {
          "model_module": "@jupyter-widgets/controls",
          "model_name": "HTMLModel",
          "model_module_version": "1.5.0",
          "state": {
            "_dom_classes": [],
            "_model_module": "@jupyter-widgets/controls",
            "_model_module_version": "1.5.0",
            "_model_name": "HTMLModel",
            "_view_count": null,
            "_view_module": "@jupyter-widgets/controls",
            "_view_module_version": "1.5.0",
            "_view_name": "HTMLView",
            "description": "",
            "description_tooltip": null,
            "layout": "IPY_MODEL_99ae06240b7247caad7b62ec2f85197b",
            "placeholder": "​",
            "style": "IPY_MODEL_f4c40464df3345ad9f0bad205c0dd7e2",
            "value": "tokenizer_config.json: 100%"
          }
        },
        "0802e6e4360c48248fce70bb18d241de": {
          "model_module": "@jupyter-widgets/controls",
          "model_name": "FloatProgressModel",
          "model_module_version": "1.5.0",
          "state": {
            "_dom_classes": [],
            "_model_module": "@jupyter-widgets/controls",
            "_model_module_version": "1.5.0",
            "_model_name": "FloatProgressModel",
            "_view_count": null,
            "_view_module": "@jupyter-widgets/controls",
            "_view_module_version": "1.5.0",
            "_view_name": "ProgressView",
            "bar_style": "success",
            "description": "",
            "description_tooltip": null,
            "layout": "IPY_MODEL_c21f2b23e0f349b5b490295dc66715aa",
            "max": 48,
            "min": 0,
            "orientation": "horizontal",
            "style": "IPY_MODEL_2fde07a3746648e6a6459a4e14d4d250",
            "value": 48
          }
        },
        "2768ee4da02c4f0aa9011a96e81a0dcb": {
          "model_module": "@jupyter-widgets/controls",
          "model_name": "HTMLModel",
          "model_module_version": "1.5.0",
          "state": {
            "_dom_classes": [],
            "_model_module": "@jupyter-widgets/controls",
            "_model_module_version": "1.5.0",
            "_model_name": "HTMLModel",
            "_view_count": null,
            "_view_module": "@jupyter-widgets/controls",
            "_view_module_version": "1.5.0",
            "_view_name": "HTMLView",
            "description": "",
            "description_tooltip": null,
            "layout": "IPY_MODEL_2043d95502b2484e97a201d680c4dad3",
            "placeholder": "​",
            "style": "IPY_MODEL_7c0facdd49884673a364a5700861a3e3",
            "value": " 48.0/48.0 [00:00&lt;00:00, 4.04kB/s]"
          }
        },
        "42fa05b4bf26423b951189b60ed5edfd": {
          "model_module": "@jupyter-widgets/base",
          "model_name": "LayoutModel",
          "model_module_version": "1.2.0",
          "state": {
            "_model_module": "@jupyter-widgets/base",
            "_model_module_version": "1.2.0",
            "_model_name": "LayoutModel",
            "_view_count": null,
            "_view_module": "@jupyter-widgets/base",
            "_view_module_version": "1.2.0",
            "_view_name": "LayoutView",
            "align_content": null,
            "align_items": null,
            "align_self": null,
            "border": null,
            "bottom": null,
            "display": null,
            "flex": null,
            "flex_flow": null,
            "grid_area": null,
            "grid_auto_columns": null,
            "grid_auto_flow": null,
            "grid_auto_rows": null,
            "grid_column": null,
            "grid_gap": null,
            "grid_row": null,
            "grid_template_areas": null,
            "grid_template_columns": null,
            "grid_template_rows": null,
            "height": null,
            "justify_content": null,
            "justify_items": null,
            "left": null,
            "margin": null,
            "max_height": null,
            "max_width": null,
            "min_height": null,
            "min_width": null,
            "object_fit": null,
            "object_position": null,
            "order": null,
            "overflow": null,
            "overflow_x": null,
            "overflow_y": null,
            "padding": null,
            "right": null,
            "top": null,
            "visibility": null,
            "width": null
          }
        },
        "99ae06240b7247caad7b62ec2f85197b": {
          "model_module": "@jupyter-widgets/base",
          "model_name": "LayoutModel",
          "model_module_version": "1.2.0",
          "state": {
            "_model_module": "@jupyter-widgets/base",
            "_model_module_version": "1.2.0",
            "_model_name": "LayoutModel",
            "_view_count": null,
            "_view_module": "@jupyter-widgets/base",
            "_view_module_version": "1.2.0",
            "_view_name": "LayoutView",
            "align_content": null,
            "align_items": null,
            "align_self": null,
            "border": null,
            "bottom": null,
            "display": null,
            "flex": null,
            "flex_flow": null,
            "grid_area": null,
            "grid_auto_columns": null,
            "grid_auto_flow": null,
            "grid_auto_rows": null,
            "grid_column": null,
            "grid_gap": null,
            "grid_row": null,
            "grid_template_areas": null,
            "grid_template_columns": null,
            "grid_template_rows": null,
            "height": null,
            "justify_content": null,
            "justify_items": null,
            "left": null,
            "margin": null,
            "max_height": null,
            "max_width": null,
            "min_height": null,
            "min_width": null,
            "object_fit": null,
            "object_position": null,
            "order": null,
            "overflow": null,
            "overflow_x": null,
            "overflow_y": null,
            "padding": null,
            "right": null,
            "top": null,
            "visibility": null,
            "width": null
          }
        },
        "f4c40464df3345ad9f0bad205c0dd7e2": {
          "model_module": "@jupyter-widgets/controls",
          "model_name": "DescriptionStyleModel",
          "model_module_version": "1.5.0",
          "state": {
            "_model_module": "@jupyter-widgets/controls",
            "_model_module_version": "1.5.0",
            "_model_name": "DescriptionStyleModel",
            "_view_count": null,
            "_view_module": "@jupyter-widgets/base",
            "_view_module_version": "1.2.0",
            "_view_name": "StyleView",
            "description_width": ""
          }
        },
        "c21f2b23e0f349b5b490295dc66715aa": {
          "model_module": "@jupyter-widgets/base",
          "model_name": "LayoutModel",
          "model_module_version": "1.2.0",
          "state": {
            "_model_module": "@jupyter-widgets/base",
            "_model_module_version": "1.2.0",
            "_model_name": "LayoutModel",
            "_view_count": null,
            "_view_module": "@jupyter-widgets/base",
            "_view_module_version": "1.2.0",
            "_view_name": "LayoutView",
            "align_content": null,
            "align_items": null,
            "align_self": null,
            "border": null,
            "bottom": null,
            "display": null,
            "flex": null,
            "flex_flow": null,
            "grid_area": null,
            "grid_auto_columns": null,
            "grid_auto_flow": null,
            "grid_auto_rows": null,
            "grid_column": null,
            "grid_gap": null,
            "grid_row": null,
            "grid_template_areas": null,
            "grid_template_columns": null,
            "grid_template_rows": null,
            "height": null,
            "justify_content": null,
            "justify_items": null,
            "left": null,
            "margin": null,
            "max_height": null,
            "max_width": null,
            "min_height": null,
            "min_width": null,
            "object_fit": null,
            "object_position": null,
            "order": null,
            "overflow": null,
            "overflow_x": null,
            "overflow_y": null,
            "padding": null,
            "right": null,
            "top": null,
            "visibility": null,
            "width": null
          }
        },
        "2fde07a3746648e6a6459a4e14d4d250": {
          "model_module": "@jupyter-widgets/controls",
          "model_name": "ProgressStyleModel",
          "model_module_version": "1.5.0",
          "state": {
            "_model_module": "@jupyter-widgets/controls",
            "_model_module_version": "1.5.0",
            "_model_name": "ProgressStyleModel",
            "_view_count": null,
            "_view_module": "@jupyter-widgets/base",
            "_view_module_version": "1.2.0",
            "_view_name": "StyleView",
            "bar_color": null,
            "description_width": ""
          }
        },
        "2043d95502b2484e97a201d680c4dad3": {
          "model_module": "@jupyter-widgets/base",
          "model_name": "LayoutModel",
          "model_module_version": "1.2.0",
          "state": {
            "_model_module": "@jupyter-widgets/base",
            "_model_module_version": "1.2.0",
            "_model_name": "LayoutModel",
            "_view_count": null,
            "_view_module": "@jupyter-widgets/base",
            "_view_module_version": "1.2.0",
            "_view_name": "LayoutView",
            "align_content": null,
            "align_items": null,
            "align_self": null,
            "border": null,
            "bottom": null,
            "display": null,
            "flex": null,
            "flex_flow": null,
            "grid_area": null,
            "grid_auto_columns": null,
            "grid_auto_flow": null,
            "grid_auto_rows": null,
            "grid_column": null,
            "grid_gap": null,
            "grid_row": null,
            "grid_template_areas": null,
            "grid_template_columns": null,
            "grid_template_rows": null,
            "height": null,
            "justify_content": null,
            "justify_items": null,
            "left": null,
            "margin": null,
            "max_height": null,
            "max_width": null,
            "min_height": null,
            "min_width": null,
            "object_fit": null,
            "object_position": null,
            "order": null,
            "overflow": null,
            "overflow_x": null,
            "overflow_y": null,
            "padding": null,
            "right": null,
            "top": null,
            "visibility": null,
            "width": null
          }
        },
        "7c0facdd49884673a364a5700861a3e3": {
          "model_module": "@jupyter-widgets/controls",
          "model_name": "DescriptionStyleModel",
          "model_module_version": "1.5.0",
          "state": {
            "_model_module": "@jupyter-widgets/controls",
            "_model_module_version": "1.5.0",
            "_model_name": "DescriptionStyleModel",
            "_view_count": null,
            "_view_module": "@jupyter-widgets/base",
            "_view_module_version": "1.2.0",
            "_view_name": "StyleView",
            "description_width": ""
          }
        },
        "4193af92952a4d92b1a13cc1c1489477": {
          "model_module": "@jupyter-widgets/controls",
          "model_name": "HBoxModel",
          "model_module_version": "1.5.0",
          "state": {
            "_dom_classes": [],
            "_model_module": "@jupyter-widgets/controls",
            "_model_module_version": "1.5.0",
            "_model_name": "HBoxModel",
            "_view_count": null,
            "_view_module": "@jupyter-widgets/controls",
            "_view_module_version": "1.5.0",
            "_view_name": "HBoxView",
            "box_style": "",
            "children": [
              "IPY_MODEL_c6a39bfe026441a0a72e4cac15c28c41",
              "IPY_MODEL_61ebac270cb845fa917e9e1e772d60e4",
              "IPY_MODEL_729da5602ea84477b53e0d844c23a38e"
            ],
            "layout": "IPY_MODEL_c8a13c04398f4f56802d0a0ce4ea1065"
          }
        },
        "c6a39bfe026441a0a72e4cac15c28c41": {
          "model_module": "@jupyter-widgets/controls",
          "model_name": "HTMLModel",
          "model_module_version": "1.5.0",
          "state": {
            "_dom_classes": [],
            "_model_module": "@jupyter-widgets/controls",
            "_model_module_version": "1.5.0",
            "_model_name": "HTMLModel",
            "_view_count": null,
            "_view_module": "@jupyter-widgets/controls",
            "_view_module_version": "1.5.0",
            "_view_name": "HTMLView",
            "description": "",
            "description_tooltip": null,
            "layout": "IPY_MODEL_98de2a011c2c422e9c07129f6ff58670",
            "placeholder": "​",
            "style": "IPY_MODEL_d3be07c2f28f463bb4417e04bb44a4c4",
            "value": "vocab.txt: 100%"
          }
        },
        "61ebac270cb845fa917e9e1e772d60e4": {
          "model_module": "@jupyter-widgets/controls",
          "model_name": "FloatProgressModel",
          "model_module_version": "1.5.0",
          "state": {
            "_dom_classes": [],
            "_model_module": "@jupyter-widgets/controls",
            "_model_module_version": "1.5.0",
            "_model_name": "FloatProgressModel",
            "_view_count": null,
            "_view_module": "@jupyter-widgets/controls",
            "_view_module_version": "1.5.0",
            "_view_name": "ProgressView",
            "bar_style": "success",
            "description": "",
            "description_tooltip": null,
            "layout": "IPY_MODEL_a74db5abfb7e48a38326ba35e567bd08",
            "max": 231508,
            "min": 0,
            "orientation": "horizontal",
            "style": "IPY_MODEL_c701789c92b8476d862d73e3725eb085",
            "value": 231508
          }
        },
        "729da5602ea84477b53e0d844c23a38e": {
          "model_module": "@jupyter-widgets/controls",
          "model_name": "HTMLModel",
          "model_module_version": "1.5.0",
          "state": {
            "_dom_classes": [],
            "_model_module": "@jupyter-widgets/controls",
            "_model_module_version": "1.5.0",
            "_model_name": "HTMLModel",
            "_view_count": null,
            "_view_module": "@jupyter-widgets/controls",
            "_view_module_version": "1.5.0",
            "_view_name": "HTMLView",
            "description": "",
            "description_tooltip": null,
            "layout": "IPY_MODEL_2bb21c3b6069480fbe15f18c98dd69ae",
            "placeholder": "​",
            "style": "IPY_MODEL_6c76ca99084a4a1589710b2ea4b3d945",
            "value": " 232k/232k [00:00&lt;00:00, 6.53MB/s]"
          }
        },
        "c8a13c04398f4f56802d0a0ce4ea1065": {
          "model_module": "@jupyter-widgets/base",
          "model_name": "LayoutModel",
          "model_module_version": "1.2.0",
          "state": {
            "_model_module": "@jupyter-widgets/base",
            "_model_module_version": "1.2.0",
            "_model_name": "LayoutModel",
            "_view_count": null,
            "_view_module": "@jupyter-widgets/base",
            "_view_module_version": "1.2.0",
            "_view_name": "LayoutView",
            "align_content": null,
            "align_items": null,
            "align_self": null,
            "border": null,
            "bottom": null,
            "display": null,
            "flex": null,
            "flex_flow": null,
            "grid_area": null,
            "grid_auto_columns": null,
            "grid_auto_flow": null,
            "grid_auto_rows": null,
            "grid_column": null,
            "grid_gap": null,
            "grid_row": null,
            "grid_template_areas": null,
            "grid_template_columns": null,
            "grid_template_rows": null,
            "height": null,
            "justify_content": null,
            "justify_items": null,
            "left": null,
            "margin": null,
            "max_height": null,
            "max_width": null,
            "min_height": null,
            "min_width": null,
            "object_fit": null,
            "object_position": null,
            "order": null,
            "overflow": null,
            "overflow_x": null,
            "overflow_y": null,
            "padding": null,
            "right": null,
            "top": null,
            "visibility": null,
            "width": null
          }
        },
        "98de2a011c2c422e9c07129f6ff58670": {
          "model_module": "@jupyter-widgets/base",
          "model_name": "LayoutModel",
          "model_module_version": "1.2.0",
          "state": {
            "_model_module": "@jupyter-widgets/base",
            "_model_module_version": "1.2.0",
            "_model_name": "LayoutModel",
            "_view_count": null,
            "_view_module": "@jupyter-widgets/base",
            "_view_module_version": "1.2.0",
            "_view_name": "LayoutView",
            "align_content": null,
            "align_items": null,
            "align_self": null,
            "border": null,
            "bottom": null,
            "display": null,
            "flex": null,
            "flex_flow": null,
            "grid_area": null,
            "grid_auto_columns": null,
            "grid_auto_flow": null,
            "grid_auto_rows": null,
            "grid_column": null,
            "grid_gap": null,
            "grid_row": null,
            "grid_template_areas": null,
            "grid_template_columns": null,
            "grid_template_rows": null,
            "height": null,
            "justify_content": null,
            "justify_items": null,
            "left": null,
            "margin": null,
            "max_height": null,
            "max_width": null,
            "min_height": null,
            "min_width": null,
            "object_fit": null,
            "object_position": null,
            "order": null,
            "overflow": null,
            "overflow_x": null,
            "overflow_y": null,
            "padding": null,
            "right": null,
            "top": null,
            "visibility": null,
            "width": null
          }
        },
        "d3be07c2f28f463bb4417e04bb44a4c4": {
          "model_module": "@jupyter-widgets/controls",
          "model_name": "DescriptionStyleModel",
          "model_module_version": "1.5.0",
          "state": {
            "_model_module": "@jupyter-widgets/controls",
            "_model_module_version": "1.5.0",
            "_model_name": "DescriptionStyleModel",
            "_view_count": null,
            "_view_module": "@jupyter-widgets/base",
            "_view_module_version": "1.2.0",
            "_view_name": "StyleView",
            "description_width": ""
          }
        },
        "a74db5abfb7e48a38326ba35e567bd08": {
          "model_module": "@jupyter-widgets/base",
          "model_name": "LayoutModel",
          "model_module_version": "1.2.0",
          "state": {
            "_model_module": "@jupyter-widgets/base",
            "_model_module_version": "1.2.0",
            "_model_name": "LayoutModel",
            "_view_count": null,
            "_view_module": "@jupyter-widgets/base",
            "_view_module_version": "1.2.0",
            "_view_name": "LayoutView",
            "align_content": null,
            "align_items": null,
            "align_self": null,
            "border": null,
            "bottom": null,
            "display": null,
            "flex": null,
            "flex_flow": null,
            "grid_area": null,
            "grid_auto_columns": null,
            "grid_auto_flow": null,
            "grid_auto_rows": null,
            "grid_column": null,
            "grid_gap": null,
            "grid_row": null,
            "grid_template_areas": null,
            "grid_template_columns": null,
            "grid_template_rows": null,
            "height": null,
            "justify_content": null,
            "justify_items": null,
            "left": null,
            "margin": null,
            "max_height": null,
            "max_width": null,
            "min_height": null,
            "min_width": null,
            "object_fit": null,
            "object_position": null,
            "order": null,
            "overflow": null,
            "overflow_x": null,
            "overflow_y": null,
            "padding": null,
            "right": null,
            "top": null,
            "visibility": null,
            "width": null
          }
        },
        "c701789c92b8476d862d73e3725eb085": {
          "model_module": "@jupyter-widgets/controls",
          "model_name": "ProgressStyleModel",
          "model_module_version": "1.5.0",
          "state": {
            "_model_module": "@jupyter-widgets/controls",
            "_model_module_version": "1.5.0",
            "_model_name": "ProgressStyleModel",
            "_view_count": null,
            "_view_module": "@jupyter-widgets/base",
            "_view_module_version": "1.2.0",
            "_view_name": "StyleView",
            "bar_color": null,
            "description_width": ""
          }
        },
        "2bb21c3b6069480fbe15f18c98dd69ae": {
          "model_module": "@jupyter-widgets/base",
          "model_name": "LayoutModel",
          "model_module_version": "1.2.0",
          "state": {
            "_model_module": "@jupyter-widgets/base",
            "_model_module_version": "1.2.0",
            "_model_name": "LayoutModel",
            "_view_count": null,
            "_view_module": "@jupyter-widgets/base",
            "_view_module_version": "1.2.0",
            "_view_name": "LayoutView",
            "align_content": null,
            "align_items": null,
            "align_self": null,
            "border": null,
            "bottom": null,
            "display": null,
            "flex": null,
            "flex_flow": null,
            "grid_area": null,
            "grid_auto_columns": null,
            "grid_auto_flow": null,
            "grid_auto_rows": null,
            "grid_column": null,
            "grid_gap": null,
            "grid_row": null,
            "grid_template_areas": null,
            "grid_template_columns": null,
            "grid_template_rows": null,
            "height": null,
            "justify_content": null,
            "justify_items": null,
            "left": null,
            "margin": null,
            "max_height": null,
            "max_width": null,
            "min_height": null,
            "min_width": null,
            "object_fit": null,
            "object_position": null,
            "order": null,
            "overflow": null,
            "overflow_x": null,
            "overflow_y": null,
            "padding": null,
            "right": null,
            "top": null,
            "visibility": null,
            "width": null
          }
        },
        "6c76ca99084a4a1589710b2ea4b3d945": {
          "model_module": "@jupyter-widgets/controls",
          "model_name": "DescriptionStyleModel",
          "model_module_version": "1.5.0",
          "state": {
            "_model_module": "@jupyter-widgets/controls",
            "_model_module_version": "1.5.0",
            "_model_name": "DescriptionStyleModel",
            "_view_count": null,
            "_view_module": "@jupyter-widgets/base",
            "_view_module_version": "1.2.0",
            "_view_name": "StyleView",
            "description_width": ""
          }
        },
        "e84bfda18370481a88a42d968e3a1011": {
          "model_module": "@jupyter-widgets/controls",
          "model_name": "HBoxModel",
          "model_module_version": "1.5.0",
          "state": {
            "_dom_classes": [],
            "_model_module": "@jupyter-widgets/controls",
            "_model_module_version": "1.5.0",
            "_model_name": "HBoxModel",
            "_view_count": null,
            "_view_module": "@jupyter-widgets/controls",
            "_view_module_version": "1.5.0",
            "_view_name": "HBoxView",
            "box_style": "",
            "children": [
              "IPY_MODEL_b8f427f5c0064244b050f7e828a21a28",
              "IPY_MODEL_195d188145804aa9b7f2c26fbf916dad",
              "IPY_MODEL_c169ec2c547143769e7b8b784c2d5eb9"
            ],
            "layout": "IPY_MODEL_35aaea6585034896877e905628a86286"
          }
        },
        "b8f427f5c0064244b050f7e828a21a28": {
          "model_module": "@jupyter-widgets/controls",
          "model_name": "HTMLModel",
          "model_module_version": "1.5.0",
          "state": {
            "_dom_classes": [],
            "_model_module": "@jupyter-widgets/controls",
            "_model_module_version": "1.5.0",
            "_model_name": "HTMLModel",
            "_view_count": null,
            "_view_module": "@jupyter-widgets/controls",
            "_view_module_version": "1.5.0",
            "_view_name": "HTMLView",
            "description": "",
            "description_tooltip": null,
            "layout": "IPY_MODEL_dbda8fd6569746ed839d553a28d91036",
            "placeholder": "​",
            "style": "IPY_MODEL_6eabbaf03099411f8a5775696ad2a4f5",
            "value": "tokenizer.json: 100%"
          }
        },
        "195d188145804aa9b7f2c26fbf916dad": {
          "model_module": "@jupyter-widgets/controls",
          "model_name": "FloatProgressModel",
          "model_module_version": "1.5.0",
          "state": {
            "_dom_classes": [],
            "_model_module": "@jupyter-widgets/controls",
            "_model_module_version": "1.5.0",
            "_model_name": "FloatProgressModel",
            "_view_count": null,
            "_view_module": "@jupyter-widgets/controls",
            "_view_module_version": "1.5.0",
            "_view_name": "ProgressView",
            "bar_style": "success",
            "description": "",
            "description_tooltip": null,
            "layout": "IPY_MODEL_2fbd88bfbe8246b0a2c82373de43efef",
            "max": 466062,
            "min": 0,
            "orientation": "horizontal",
            "style": "IPY_MODEL_92a430b671fa4cb381c85561bb91e32d",
            "value": 466062
          }
        },
        "c169ec2c547143769e7b8b784c2d5eb9": {
          "model_module": "@jupyter-widgets/controls",
          "model_name": "HTMLModel",
          "model_module_version": "1.5.0",
          "state": {
            "_dom_classes": [],
            "_model_module": "@jupyter-widgets/controls",
            "_model_module_version": "1.5.0",
            "_model_name": "HTMLModel",
            "_view_count": null,
            "_view_module": "@jupyter-widgets/controls",
            "_view_module_version": "1.5.0",
            "_view_name": "HTMLView",
            "description": "",
            "description_tooltip": null,
            "layout": "IPY_MODEL_48aa2d6791e74cb49e140083564627e9",
            "placeholder": "​",
            "style": "IPY_MODEL_32e0e3881fab4940adb05ee25ae4c196",
            "value": " 466k/466k [00:00&lt;00:00, 26.9MB/s]"
          }
        },
        "35aaea6585034896877e905628a86286": {
          "model_module": "@jupyter-widgets/base",
          "model_name": "LayoutModel",
          "model_module_version": "1.2.0",
          "state": {
            "_model_module": "@jupyter-widgets/base",
            "_model_module_version": "1.2.0",
            "_model_name": "LayoutModel",
            "_view_count": null,
            "_view_module": "@jupyter-widgets/base",
            "_view_module_version": "1.2.0",
            "_view_name": "LayoutView",
            "align_content": null,
            "align_items": null,
            "align_self": null,
            "border": null,
            "bottom": null,
            "display": null,
            "flex": null,
            "flex_flow": null,
            "grid_area": null,
            "grid_auto_columns": null,
            "grid_auto_flow": null,
            "grid_auto_rows": null,
            "grid_column": null,
            "grid_gap": null,
            "grid_row": null,
            "grid_template_areas": null,
            "grid_template_columns": null,
            "grid_template_rows": null,
            "height": null,
            "justify_content": null,
            "justify_items": null,
            "left": null,
            "margin": null,
            "max_height": null,
            "max_width": null,
            "min_height": null,
            "min_width": null,
            "object_fit": null,
            "object_position": null,
            "order": null,
            "overflow": null,
            "overflow_x": null,
            "overflow_y": null,
            "padding": null,
            "right": null,
            "top": null,
            "visibility": null,
            "width": null
          }
        },
        "dbda8fd6569746ed839d553a28d91036": {
          "model_module": "@jupyter-widgets/base",
          "model_name": "LayoutModel",
          "model_module_version": "1.2.0",
          "state": {
            "_model_module": "@jupyter-widgets/base",
            "_model_module_version": "1.2.0",
            "_model_name": "LayoutModel",
            "_view_count": null,
            "_view_module": "@jupyter-widgets/base",
            "_view_module_version": "1.2.0",
            "_view_name": "LayoutView",
            "align_content": null,
            "align_items": null,
            "align_self": null,
            "border": null,
            "bottom": null,
            "display": null,
            "flex": null,
            "flex_flow": null,
            "grid_area": null,
            "grid_auto_columns": null,
            "grid_auto_flow": null,
            "grid_auto_rows": null,
            "grid_column": null,
            "grid_gap": null,
            "grid_row": null,
            "grid_template_areas": null,
            "grid_template_columns": null,
            "grid_template_rows": null,
            "height": null,
            "justify_content": null,
            "justify_items": null,
            "left": null,
            "margin": null,
            "max_height": null,
            "max_width": null,
            "min_height": null,
            "min_width": null,
            "object_fit": null,
            "object_position": null,
            "order": null,
            "overflow": null,
            "overflow_x": null,
            "overflow_y": null,
            "padding": null,
            "right": null,
            "top": null,
            "visibility": null,
            "width": null
          }
        },
        "6eabbaf03099411f8a5775696ad2a4f5": {
          "model_module": "@jupyter-widgets/controls",
          "model_name": "DescriptionStyleModel",
          "model_module_version": "1.5.0",
          "state": {
            "_model_module": "@jupyter-widgets/controls",
            "_model_module_version": "1.5.0",
            "_model_name": "DescriptionStyleModel",
            "_view_count": null,
            "_view_module": "@jupyter-widgets/base",
            "_view_module_version": "1.2.0",
            "_view_name": "StyleView",
            "description_width": ""
          }
        },
        "2fbd88bfbe8246b0a2c82373de43efef": {
          "model_module": "@jupyter-widgets/base",
          "model_name": "LayoutModel",
          "model_module_version": "1.2.0",
          "state": {
            "_model_module": "@jupyter-widgets/base",
            "_model_module_version": "1.2.0",
            "_model_name": "LayoutModel",
            "_view_count": null,
            "_view_module": "@jupyter-widgets/base",
            "_view_module_version": "1.2.0",
            "_view_name": "LayoutView",
            "align_content": null,
            "align_items": null,
            "align_self": null,
            "border": null,
            "bottom": null,
            "display": null,
            "flex": null,
            "flex_flow": null,
            "grid_area": null,
            "grid_auto_columns": null,
            "grid_auto_flow": null,
            "grid_auto_rows": null,
            "grid_column": null,
            "grid_gap": null,
            "grid_row": null,
            "grid_template_areas": null,
            "grid_template_columns": null,
            "grid_template_rows": null,
            "height": null,
            "justify_content": null,
            "justify_items": null,
            "left": null,
            "margin": null,
            "max_height": null,
            "max_width": null,
            "min_height": null,
            "min_width": null,
            "object_fit": null,
            "object_position": null,
            "order": null,
            "overflow": null,
            "overflow_x": null,
            "overflow_y": null,
            "padding": null,
            "right": null,
            "top": null,
            "visibility": null,
            "width": null
          }
        },
        "92a430b671fa4cb381c85561bb91e32d": {
          "model_module": "@jupyter-widgets/controls",
          "model_name": "ProgressStyleModel",
          "model_module_version": "1.5.0",
          "state": {
            "_model_module": "@jupyter-widgets/controls",
            "_model_module_version": "1.5.0",
            "_model_name": "ProgressStyleModel",
            "_view_count": null,
            "_view_module": "@jupyter-widgets/base",
            "_view_module_version": "1.2.0",
            "_view_name": "StyleView",
            "bar_color": null,
            "description_width": ""
          }
        },
        "48aa2d6791e74cb49e140083564627e9": {
          "model_module": "@jupyter-widgets/base",
          "model_name": "LayoutModel",
          "model_module_version": "1.2.0",
          "state": {
            "_model_module": "@jupyter-widgets/base",
            "_model_module_version": "1.2.0",
            "_model_name": "LayoutModel",
            "_view_count": null,
            "_view_module": "@jupyter-widgets/base",
            "_view_module_version": "1.2.0",
            "_view_name": "LayoutView",
            "align_content": null,
            "align_items": null,
            "align_self": null,
            "border": null,
            "bottom": null,
            "display": null,
            "flex": null,
            "flex_flow": null,
            "grid_area": null,
            "grid_auto_columns": null,
            "grid_auto_flow": null,
            "grid_auto_rows": null,
            "grid_column": null,
            "grid_gap": null,
            "grid_row": null,
            "grid_template_areas": null,
            "grid_template_columns": null,
            "grid_template_rows": null,
            "height": null,
            "justify_content": null,
            "justify_items": null,
            "left": null,
            "margin": null,
            "max_height": null,
            "max_width": null,
            "min_height": null,
            "min_width": null,
            "object_fit": null,
            "object_position": null,
            "order": null,
            "overflow": null,
            "overflow_x": null,
            "overflow_y": null,
            "padding": null,
            "right": null,
            "top": null,
            "visibility": null,
            "width": null
          }
        },
        "32e0e3881fab4940adb05ee25ae4c196": {
          "model_module": "@jupyter-widgets/controls",
          "model_name": "DescriptionStyleModel",
          "model_module_version": "1.5.0",
          "state": {
            "_model_module": "@jupyter-widgets/controls",
            "_model_module_version": "1.5.0",
            "_model_name": "DescriptionStyleModel",
            "_view_count": null,
            "_view_module": "@jupyter-widgets/base",
            "_view_module_version": "1.2.0",
            "_view_name": "StyleView",
            "description_width": ""
          }
        },
        "dbe2c26fd9654aa7a766cb60ab34eb21": {
          "model_module": "@jupyter-widgets/controls",
          "model_name": "HBoxModel",
          "model_module_version": "1.5.0",
          "state": {
            "_dom_classes": [],
            "_model_module": "@jupyter-widgets/controls",
            "_model_module_version": "1.5.0",
            "_model_name": "HBoxModel",
            "_view_count": null,
            "_view_module": "@jupyter-widgets/controls",
            "_view_module_version": "1.5.0",
            "_view_name": "HBoxView",
            "box_style": "",
            "children": [
              "IPY_MODEL_45017c9875d14c8fadb15835cf383927",
              "IPY_MODEL_7e296bb355cb4d2397b6a564aeb81f88",
              "IPY_MODEL_992bd2f82fa145598630e808ab2c3487"
            ],
            "layout": "IPY_MODEL_7938631b5fd34fd49623c795dae9c6c4"
          }
        },
        "45017c9875d14c8fadb15835cf383927": {
          "model_module": "@jupyter-widgets/controls",
          "model_name": "HTMLModel",
          "model_module_version": "1.5.0",
          "state": {
            "_dom_classes": [],
            "_model_module": "@jupyter-widgets/controls",
            "_model_module_version": "1.5.0",
            "_model_name": "HTMLModel",
            "_view_count": null,
            "_view_module": "@jupyter-widgets/controls",
            "_view_module_version": "1.5.0",
            "_view_name": "HTMLView",
            "description": "",
            "description_tooltip": null,
            "layout": "IPY_MODEL_6a1384a29d894341a0ffc264e9ce46a2",
            "placeholder": "​",
            "style": "IPY_MODEL_d9b92b2a71f04e4d95bbd9c7a217f49d",
            "value": "config.json: 100%"
          }
        },
        "7e296bb355cb4d2397b6a564aeb81f88": {
          "model_module": "@jupyter-widgets/controls",
          "model_name": "FloatProgressModel",
          "model_module_version": "1.5.0",
          "state": {
            "_dom_classes": [],
            "_model_module": "@jupyter-widgets/controls",
            "_model_module_version": "1.5.0",
            "_model_name": "FloatProgressModel",
            "_view_count": null,
            "_view_module": "@jupyter-widgets/controls",
            "_view_module_version": "1.5.0",
            "_view_name": "ProgressView",
            "bar_style": "success",
            "description": "",
            "description_tooltip": null,
            "layout": "IPY_MODEL_86220589ca3f411480fbc3e3f435d4ce",
            "max": 570,
            "min": 0,
            "orientation": "horizontal",
            "style": "IPY_MODEL_713d87f5d45c458dbc4ac8902294bddd",
            "value": 570
          }
        },
        "992bd2f82fa145598630e808ab2c3487": {
          "model_module": "@jupyter-widgets/controls",
          "model_name": "HTMLModel",
          "model_module_version": "1.5.0",
          "state": {
            "_dom_classes": [],
            "_model_module": "@jupyter-widgets/controls",
            "_model_module_version": "1.5.0",
            "_model_name": "HTMLModel",
            "_view_count": null,
            "_view_module": "@jupyter-widgets/controls",
            "_view_module_version": "1.5.0",
            "_view_name": "HTMLView",
            "description": "",
            "description_tooltip": null,
            "layout": "IPY_MODEL_d2200ce8293d4de28163a330a7a6e270",
            "placeholder": "​",
            "style": "IPY_MODEL_b0e7eb87ec8c46fb91bf6dd3b685470d",
            "value": " 570/570 [00:00&lt;00:00, 72.3kB/s]"
          }
        },
        "7938631b5fd34fd49623c795dae9c6c4": {
          "model_module": "@jupyter-widgets/base",
          "model_name": "LayoutModel",
          "model_module_version": "1.2.0",
          "state": {
            "_model_module": "@jupyter-widgets/base",
            "_model_module_version": "1.2.0",
            "_model_name": "LayoutModel",
            "_view_count": null,
            "_view_module": "@jupyter-widgets/base",
            "_view_module_version": "1.2.0",
            "_view_name": "LayoutView",
            "align_content": null,
            "align_items": null,
            "align_self": null,
            "border": null,
            "bottom": null,
            "display": null,
            "flex": null,
            "flex_flow": null,
            "grid_area": null,
            "grid_auto_columns": null,
            "grid_auto_flow": null,
            "grid_auto_rows": null,
            "grid_column": null,
            "grid_gap": null,
            "grid_row": null,
            "grid_template_areas": null,
            "grid_template_columns": null,
            "grid_template_rows": null,
            "height": null,
            "justify_content": null,
            "justify_items": null,
            "left": null,
            "margin": null,
            "max_height": null,
            "max_width": null,
            "min_height": null,
            "min_width": null,
            "object_fit": null,
            "object_position": null,
            "order": null,
            "overflow": null,
            "overflow_x": null,
            "overflow_y": null,
            "padding": null,
            "right": null,
            "top": null,
            "visibility": null,
            "width": null
          }
        },
        "6a1384a29d894341a0ffc264e9ce46a2": {
          "model_module": "@jupyter-widgets/base",
          "model_name": "LayoutModel",
          "model_module_version": "1.2.0",
          "state": {
            "_model_module": "@jupyter-widgets/base",
            "_model_module_version": "1.2.0",
            "_model_name": "LayoutModel",
            "_view_count": null,
            "_view_module": "@jupyter-widgets/base",
            "_view_module_version": "1.2.0",
            "_view_name": "LayoutView",
            "align_content": null,
            "align_items": null,
            "align_self": null,
            "border": null,
            "bottom": null,
            "display": null,
            "flex": null,
            "flex_flow": null,
            "grid_area": null,
            "grid_auto_columns": null,
            "grid_auto_flow": null,
            "grid_auto_rows": null,
            "grid_column": null,
            "grid_gap": null,
            "grid_row": null,
            "grid_template_areas": null,
            "grid_template_columns": null,
            "grid_template_rows": null,
            "height": null,
            "justify_content": null,
            "justify_items": null,
            "left": null,
            "margin": null,
            "max_height": null,
            "max_width": null,
            "min_height": null,
            "min_width": null,
            "object_fit": null,
            "object_position": null,
            "order": null,
            "overflow": null,
            "overflow_x": null,
            "overflow_y": null,
            "padding": null,
            "right": null,
            "top": null,
            "visibility": null,
            "width": null
          }
        },
        "d9b92b2a71f04e4d95bbd9c7a217f49d": {
          "model_module": "@jupyter-widgets/controls",
          "model_name": "DescriptionStyleModel",
          "model_module_version": "1.5.0",
          "state": {
            "_model_module": "@jupyter-widgets/controls",
            "_model_module_version": "1.5.0",
            "_model_name": "DescriptionStyleModel",
            "_view_count": null,
            "_view_module": "@jupyter-widgets/base",
            "_view_module_version": "1.2.0",
            "_view_name": "StyleView",
            "description_width": ""
          }
        },
        "86220589ca3f411480fbc3e3f435d4ce": {
          "model_module": "@jupyter-widgets/base",
          "model_name": "LayoutModel",
          "model_module_version": "1.2.0",
          "state": {
            "_model_module": "@jupyter-widgets/base",
            "_model_module_version": "1.2.0",
            "_model_name": "LayoutModel",
            "_view_count": null,
            "_view_module": "@jupyter-widgets/base",
            "_view_module_version": "1.2.0",
            "_view_name": "LayoutView",
            "align_content": null,
            "align_items": null,
            "align_self": null,
            "border": null,
            "bottom": null,
            "display": null,
            "flex": null,
            "flex_flow": null,
            "grid_area": null,
            "grid_auto_columns": null,
            "grid_auto_flow": null,
            "grid_auto_rows": null,
            "grid_column": null,
            "grid_gap": null,
            "grid_row": null,
            "grid_template_areas": null,
            "grid_template_columns": null,
            "grid_template_rows": null,
            "height": null,
            "justify_content": null,
            "justify_items": null,
            "left": null,
            "margin": null,
            "max_height": null,
            "max_width": null,
            "min_height": null,
            "min_width": null,
            "object_fit": null,
            "object_position": null,
            "order": null,
            "overflow": null,
            "overflow_x": null,
            "overflow_y": null,
            "padding": null,
            "right": null,
            "top": null,
            "visibility": null,
            "width": null
          }
        },
        "713d87f5d45c458dbc4ac8902294bddd": {
          "model_module": "@jupyter-widgets/controls",
          "model_name": "ProgressStyleModel",
          "model_module_version": "1.5.0",
          "state": {
            "_model_module": "@jupyter-widgets/controls",
            "_model_module_version": "1.5.0",
            "_model_name": "ProgressStyleModel",
            "_view_count": null,
            "_view_module": "@jupyter-widgets/base",
            "_view_module_version": "1.2.0",
            "_view_name": "StyleView",
            "bar_color": null,
            "description_width": ""
          }
        },
        "d2200ce8293d4de28163a330a7a6e270": {
          "model_module": "@jupyter-widgets/base",
          "model_name": "LayoutModel",
          "model_module_version": "1.2.0",
          "state": {
            "_model_module": "@jupyter-widgets/base",
            "_model_module_version": "1.2.0",
            "_model_name": "LayoutModel",
            "_view_count": null,
            "_view_module": "@jupyter-widgets/base",
            "_view_module_version": "1.2.0",
            "_view_name": "LayoutView",
            "align_content": null,
            "align_items": null,
            "align_self": null,
            "border": null,
            "bottom": null,
            "display": null,
            "flex": null,
            "flex_flow": null,
            "grid_area": null,
            "grid_auto_columns": null,
            "grid_auto_flow": null,
            "grid_auto_rows": null,
            "grid_column": null,
            "grid_gap": null,
            "grid_row": null,
            "grid_template_areas": null,
            "grid_template_columns": null,
            "grid_template_rows": null,
            "height": null,
            "justify_content": null,
            "justify_items": null,
            "left": null,
            "margin": null,
            "max_height": null,
            "max_width": null,
            "min_height": null,
            "min_width": null,
            "object_fit": null,
            "object_position": null,
            "order": null,
            "overflow": null,
            "overflow_x": null,
            "overflow_y": null,
            "padding": null,
            "right": null,
            "top": null,
            "visibility": null,
            "width": null
          }
        },
        "b0e7eb87ec8c46fb91bf6dd3b685470d": {
          "model_module": "@jupyter-widgets/controls",
          "model_name": "DescriptionStyleModel",
          "model_module_version": "1.5.0",
          "state": {
            "_model_module": "@jupyter-widgets/controls",
            "_model_module_version": "1.5.0",
            "_model_name": "DescriptionStyleModel",
            "_view_count": null,
            "_view_module": "@jupyter-widgets/base",
            "_view_module_version": "1.2.0",
            "_view_name": "StyleView",
            "description_width": ""
          }
        }
      }
    }
  },
  "cells": [
    {
      "cell_type": "code",
      "execution_count": 21,
      "metadata": {
        "id": "lP3ZmZ6NY5hN"
      },
      "outputs": [],
      "source": [
        "import os\n",
        "os.environ[\"TRANSFORMERS_NO_TF\"] = \"1\"\n",
        "\n",
        "from transformers import BertModel, BertTokenizer\n",
        "import numpy as np\n",
        "import pandas as pd\n",
        "from torch.utils.data import Dataset, DataLoader\n",
        "import torch\n",
        "import torch.nn as nn\n",
        "import ast\n",
        "from sklearn.model_selection import train_test_split\n",
        "from torch.optim import AdamW\n",
        "import matplotlib.pyplot as plt\n",
        "\n",
        "from tqdm import tqdm"
      ]
    },
    {
      "cell_type": "code",
      "source": [
        "# Import the dataset\n",
        "df = pd.read_csv(\"final_resume_dataset.csv\")\n",
        "print(df.head())"
      ],
      "metadata": {
        "colab": {
          "base_uri": "https://localhost:8080/"
        },
        "id": "I0wKMXQldakZ",
        "outputId": "2b5c1048-c310-45ff-8e56-7b4919cce812"
      },
      "execution_count": 2,
      "outputs": [
        {
          "output_type": "stream",
          "name": "stdout",
          "text": [
            "         Resume Job Role                                  Resume Experience  \\\n",
            "0      Market Researcher  ['Conducted surveys and focus groups to gather...   \n",
            "1  Research Psychologist  ['Developed and conducted surveys to assess us...   \n",
            "2      Senior Researcher  ['Assisted in the design and execution of in-d...   \n",
            "3             QA Manager  ['Managed and maintained office facilities, in...   \n",
            "4      Logistics Manager  ['Developed and executed space planning strate...   \n",
            "\n",
            "                                       Resume Skills           Job Title  \\\n",
            "0  Market research tools and techniques User inte...     User Researcher   \n",
            "1  Research methodology Usability testing with in...     User Researcher   \n",
            "2  Social science research methods User testing S...     User Researcher   \n",
            "3  Construction management Estate planning Enviro...  Facilities Manager   \n",
            "4  Project management Server maintenance Site pla...  Facilities Manager   \n",
            "\n",
            "                                     Job Description  \\\n",
            "0  Conduct user research to understand customer n...   \n",
            "1  Conduct user research to understand customer n...   \n",
            "2  Conduct user research to understand customer n...   \n",
            "3  Facilities Managers manage facilities and buil...   \n",
            "4  Facilities Managers manage facilities and buil...   \n",
            "\n",
            "                                          Job Skills  \\\n",
            "0  User research methods Usability testing Data a...   \n",
            "1  User research methods Usability testing Data a...   \n",
            "2  User research methods Usability testing Data a...   \n",
            "3  Facilities management Property maintenance Spa...   \n",
            "4  Facilities management Property maintenance Spa...   \n",
            "\n",
            "                                Job Responsibilities  Job Title Match  \\\n",
            "0  Conduct user research to understand user behav...         0.609490   \n",
            "1  Conduct user research to understand user behav...         0.511444   \n",
            "2  Conduct user research to understand user behav...         0.617142   \n",
            "3  Manage office facilities, including maintenanc...         0.604425   \n",
            "4  Manage office facilities, including maintenanc...         0.648784   \n",
            "\n",
            "   Skills Match  Responsibilities Match  \n",
            "0      0.633559                0.571394  \n",
            "1      0.785575                0.590450  \n",
            "2      0.676319                0.556635  \n",
            "3      0.591372                0.766494  \n",
            "4      0.723060                0.770966  \n"
          ]
        }
      ]
    },
    {
      "cell_type": "code",
      "source": [
        "# Load the bert tokenizer\n",
        "tokenizer = BertTokenizer.from_pretrained(\"bert-base-uncased\")"
      ],
      "metadata": {
        "colab": {
          "base_uri": "https://localhost:8080/",
          "height": 249,
          "referenced_widgets": [
            "f7e254e2c2f7408585e19192189f4e1e",
            "193e3f0d374141ee9c2ed32eebaa34ef",
            "0802e6e4360c48248fce70bb18d241de",
            "2768ee4da02c4f0aa9011a96e81a0dcb",
            "42fa05b4bf26423b951189b60ed5edfd",
            "99ae06240b7247caad7b62ec2f85197b",
            "f4c40464df3345ad9f0bad205c0dd7e2",
            "c21f2b23e0f349b5b490295dc66715aa",
            "2fde07a3746648e6a6459a4e14d4d250",
            "2043d95502b2484e97a201d680c4dad3",
            "7c0facdd49884673a364a5700861a3e3",
            "4193af92952a4d92b1a13cc1c1489477",
            "c6a39bfe026441a0a72e4cac15c28c41",
            "61ebac270cb845fa917e9e1e772d60e4",
            "729da5602ea84477b53e0d844c23a38e",
            "c8a13c04398f4f56802d0a0ce4ea1065",
            "98de2a011c2c422e9c07129f6ff58670",
            "d3be07c2f28f463bb4417e04bb44a4c4",
            "a74db5abfb7e48a38326ba35e567bd08",
            "c701789c92b8476d862d73e3725eb085",
            "2bb21c3b6069480fbe15f18c98dd69ae",
            "6c76ca99084a4a1589710b2ea4b3d945",
            "e84bfda18370481a88a42d968e3a1011",
            "b8f427f5c0064244b050f7e828a21a28",
            "195d188145804aa9b7f2c26fbf916dad",
            "c169ec2c547143769e7b8b784c2d5eb9",
            "35aaea6585034896877e905628a86286",
            "dbda8fd6569746ed839d553a28d91036",
            "6eabbaf03099411f8a5775696ad2a4f5",
            "2fbd88bfbe8246b0a2c82373de43efef",
            "92a430b671fa4cb381c85561bb91e32d",
            "48aa2d6791e74cb49e140083564627e9",
            "32e0e3881fab4940adb05ee25ae4c196",
            "dbe2c26fd9654aa7a766cb60ab34eb21",
            "45017c9875d14c8fadb15835cf383927",
            "7e296bb355cb4d2397b6a564aeb81f88",
            "992bd2f82fa145598630e808ab2c3487",
            "7938631b5fd34fd49623c795dae9c6c4",
            "6a1384a29d894341a0ffc264e9ce46a2",
            "d9b92b2a71f04e4d95bbd9c7a217f49d",
            "86220589ca3f411480fbc3e3f435d4ce",
            "713d87f5d45c458dbc4ac8902294bddd",
            "d2200ce8293d4de28163a330a7a6e270",
            "b0e7eb87ec8c46fb91bf6dd3b685470d"
          ]
        },
        "id": "O1qK1X_jdfVM",
        "outputId": "5163034b-471c-45c6-cbdb-2e38948f6967"
      },
      "execution_count": 3,
      "outputs": [
        {
          "output_type": "stream",
          "name": "stderr",
          "text": [
            "/usr/local/lib/python3.11/dist-packages/huggingface_hub/utils/_auth.py:94: UserWarning: \n",
            "The secret `HF_TOKEN` does not exist in your Colab secrets.\n",
            "To authenticate with the Hugging Face Hub, create a token in your settings tab (https://huggingface.co/settings/tokens), set it as secret in your Google Colab and restart your session.\n",
            "You will be able to reuse this secret in all of your notebooks.\n",
            "Please note that authentication is recommended but still optional to access public models or datasets.\n",
            "  warnings.warn(\n"
          ]
        },
        {
          "output_type": "display_data",
          "data": {
            "text/plain": [
              "tokenizer_config.json:   0%|          | 0.00/48.0 [00:00<?, ?B/s]"
            ],
            "application/vnd.jupyter.widget-view+json": {
              "version_major": 2,
              "version_minor": 0,
              "model_id": "f7e254e2c2f7408585e19192189f4e1e"
            }
          },
          "metadata": {}
        },
        {
          "output_type": "display_data",
          "data": {
            "text/plain": [
              "vocab.txt:   0%|          | 0.00/232k [00:00<?, ?B/s]"
            ],
            "application/vnd.jupyter.widget-view+json": {
              "version_major": 2,
              "version_minor": 0,
              "model_id": "4193af92952a4d92b1a13cc1c1489477"
            }
          },
          "metadata": {}
        },
        {
          "output_type": "display_data",
          "data": {
            "text/plain": [
              "tokenizer.json:   0%|          | 0.00/466k [00:00<?, ?B/s]"
            ],
            "application/vnd.jupyter.widget-view+json": {
              "version_major": 2,
              "version_minor": 0,
              "model_id": "e84bfda18370481a88a42d968e3a1011"
            }
          },
          "metadata": {}
        },
        {
          "output_type": "display_data",
          "data": {
            "text/plain": [
              "config.json:   0%|          | 0.00/570 [00:00<?, ?B/s]"
            ],
            "application/vnd.jupyter.widget-view+json": {
              "version_major": 2,
              "version_minor": 0,
              "model_id": "dbe2c26fd9654aa7a766cb60ab34eb21"
            }
          },
          "metadata": {}
        }
      ]
    },
    {
      "cell_type": "code",
      "source": [
        "class FieldPairDataset(Dataset):\n",
        "    def __init__(self, df, tokenizer, field_1, field_2, label_field, max_len=512, combine_fields=None):\n",
        "        self.df = df\n",
        "        self.tokenizer = tokenizer\n",
        "        self.field_1 = field_1\n",
        "        self.field_2 = field_2\n",
        "        self.label_field = label_field\n",
        "        self.max_len = max_len\n",
        "        self.combine_fields = combine_fields  # optional tuple of fields to join\n",
        "\n",
        "    def __len__(self):\n",
        "        return len(self.df)\n",
        "\n",
        "    def __getitem__(self, idx):\n",
        "        row = self.df.iloc[idx]\n",
        "\n",
        "        # Support concatenating multiple fields into input_a\n",
        "        if self.combine_fields:\n",
        "            input_a = \" \".join(str(row[f]) for f in self.combine_fields)\n",
        "        else:\n",
        "            input_a = str(row[self.field_1])\n",
        "\n",
        "        input_b = str(row[self.field_2])\n",
        "        label = float(row[self.label_field])\n",
        "\n",
        "        # Pretty-print list fields like Resume Experience\n",
        "        try:\n",
        "            if input_b.startswith(\"[\") and isinstance(eval(input_b), list):\n",
        "                input_b = \"\\n- \" + \"\\n- \".join(ast.literal_eval(input_b))\n",
        "        except:\n",
        "            pass\n",
        "\n",
        "        encoding = self.tokenizer(\n",
        "            input_a,\n",
        "            input_b,\n",
        "            truncation=True,\n",
        "            padding=\"max_length\",\n",
        "            max_length=self.max_len,\n",
        "            return_tensors=\"pt\"\n",
        "        )\n",
        "\n",
        "        return {\n",
        "            \"input_ids\": encoding[\"input_ids\"].squeeze(0),\n",
        "            \"attention_mask\": encoding[\"attention_mask\"].squeeze(0),\n",
        "            \"label\": torch.tensor(label, dtype=torch.float)\n",
        "        }\n"
      ],
      "metadata": {
        "id": "lWKPhvcIdiIP"
      },
      "execution_count": 4,
      "outputs": []
    },
    {
      "cell_type": "code",
      "source": [
        "# Example usage of the dataset\n",
        "# Title Match\n",
        "title_dataset = FieldPairDataset(\n",
        "    df,\n",
        "    tokenizer,\n",
        "    field_1=\"Job Title\",\n",
        "    field_2=\"Resume Job Role\",\n",
        "    label_field=\"Job Title Match\"\n",
        ")\n",
        "\n",
        "# Skills Match\n",
        "skills_dataset = FieldPairDataset(\n",
        "    df,\n",
        "    tokenizer,\n",
        "    field_1=\"Job Skills\",\n",
        "    field_2=\"Resume Skills\",\n",
        "    label_field=\"Skills Match\"\n",
        ")\n",
        "\n",
        "# Responsibilities Match (combining Job Description + Responsibilities)\n",
        "responsibilities_dataset = FieldPairDataset(\n",
        "    df,\n",
        "    tokenizer,\n",
        "    field_1=None,\n",
        "    field_2=\"Resume Experience\",\n",
        "    label_field=\"Responsibilities Match\",\n",
        "    combine_fields=(\"Job Description\", \"Job Responsibilities\")\n",
        ")\n"
      ],
      "metadata": {
        "id": "CFzGH7L-djb2"
      },
      "execution_count": 5,
      "outputs": []
    },
    {
      "cell_type": "code",
      "source": [
        "# Make a dataloader with proper train test splits\n",
        "# df = df.sample(frac=0.1, random_state=42)\n",
        "train_df, test_df = train_test_split(df, test_size=0.2, random_state=42)\n",
        "\n",
        "# Title Match\n",
        "title_train_dataset = FieldPairDataset(train_df, tokenizer,\n",
        "    field_1=\"Job Title\", field_2=\"Resume Job Role\", label_field=\"Job Title Match\")\n",
        "\n",
        "title_test_dataset = FieldPairDataset(test_df, tokenizer,\n",
        "    field_1=\"Job Title\", field_2=\"Resume Job Role\", label_field=\"Job Title Match\")\n",
        "\n",
        "title_train_loader = DataLoader(title_train_dataset, batch_size=8, shuffle=True)\n",
        "title_test_loader = DataLoader(title_test_dataset, batch_size=8, shuffle=False)\n",
        "\n",
        "# Skills Match\n",
        "skills_train_dataset = FieldPairDataset(train_df, tokenizer,\n",
        "    field_1=\"Job Skills\", field_2=\"Resume Skills\", label_field=\"Skills Match\")\n",
        "\n",
        "skills_test_dataset = FieldPairDataset(test_df, tokenizer,\n",
        "    field_1=\"Job Skills\", field_2=\"Resume Skills\", label_field=\"Skills Match\")\n",
        "\n",
        "skills_train_loader = DataLoader(skills_train_dataset, batch_size=8, shuffle=True)\n",
        "skills_test_loader = DataLoader(skills_test_dataset, batch_size=8, shuffle=False)\n",
        "\n",
        "# Responsibilities Match\n",
        "resp_train_dataset = FieldPairDataset(train_df, tokenizer,\n",
        "    field_1=None, field_2=\"Resume Experience\", label_field=\"Responsibilities Match\",\n",
        "    combine_fields=(\"Job Description\", \"Job Responsibilities\"))\n",
        "\n",
        "resp_test_dataset = FieldPairDataset(test_df, tokenizer,\n",
        "    field_1=None, field_2=\"Resume Experience\", label_field=\"Responsibilities Match\",\n",
        "    combine_fields=(\"Job Description\", \"Job Responsibilities\"))\n",
        "\n",
        "resp_train_loader = DataLoader(resp_train_dataset, batch_size=8, shuffle=True)\n",
        "resp_test_loader = DataLoader(resp_test_dataset, batch_size=8, shuffle=False)"
      ],
      "metadata": {
        "id": "OOPPhAqJdlEn"
      },
      "execution_count": 6,
      "outputs": []
    },
    {
      "cell_type": "code",
      "source": [
        "# Make the model\n",
        "class JobFitModel(nn.Module):\n",
        "    def __init__(self):\n",
        "        super(JobFitModel, self).__init__()\n",
        "        self.bert = BertModel.from_pretrained('bert-base-uncased')\n",
        "        self.ffn = nn.Sequential(\n",
        "            nn.Linear(768, 256),\n",
        "            nn.ReLU(),\n",
        "            nn.Dropout(0.2),\n",
        "            nn.Linear(256, 64),\n",
        "            nn.ReLU(),\n",
        "            nn.Dropout(0.1),\n",
        "            nn.Linear(64, 1),\n",
        "            nn.Sigmoid()\n",
        "        )\n",
        "\n",
        "\n",
        "    def forward(self, input_ids, attention_mask):\n",
        "        outputs = self.bert(input_ids=input_ids, attention_mask=attention_mask)\n",
        "        cls_embedding = outputs.last_hidden_state[:, 0, :]  # Grab [CLS] token\n",
        "        score = self.ffn(cls_embedding)\n",
        "        return score.squeeze(1)  # Return shape: (batch_size,)"
      ],
      "metadata": {
        "id": "oXg_lM93doFf"
      },
      "execution_count": 7,
      "outputs": []
    },
    {
      "cell_type": "code",
      "source": [
        "def train_model(model, train_loader, optimizer, criterion, device, epochs=3):\n",
        "    model.to(device)\n",
        "\n",
        "    for epoch in range(epochs):\n",
        "        model.train()\n",
        "        total_loss = 0\n",
        "\n",
        "        loop = tqdm(train_loader, desc=f\"Epoch {epoch+1}\")\n",
        "        for batch in loop:\n",
        "            input_ids = batch[\"input_ids\"].to(device)\n",
        "            attention_mask = batch[\"attention_mask\"].to(device)\n",
        "            labels = batch[\"label\"].to(device)\n",
        "\n",
        "            optimizer.zero_grad()\n",
        "\n",
        "            outputs = model(input_ids=input_ids, attention_mask=attention_mask)\n",
        "            loss = criterion(outputs, labels)\n",
        "\n",
        "            loss.backward()\n",
        "            optimizer.step()\n",
        "\n",
        "            total_loss += loss.item()\n",
        "            loop.set_postfix(loss=loss.item())\n",
        "\n",
        "        avg_loss = total_loss / len(train_loader)\n",
        "        print(f\"Epoch {epoch+1} training loss: {avg_loss:.4f}\")\n"
      ],
      "metadata": {
        "id": "WUljW6gQdpkZ"
      },
      "execution_count": 8,
      "outputs": []
    },
    {
      "cell_type": "code",
      "source": [
        "def evaluate_model(model, test_loader, criterion, device):\n",
        "    model.eval()\n",
        "    total_loss = 0\n",
        "    all_preds = []\n",
        "    all_labels = []\n",
        "\n",
        "    with torch.no_grad():\n",
        "        for batch in test_loader:\n",
        "            input_ids = batch[\"input_ids\"].to(device)\n",
        "            attention_mask = batch[\"attention_mask\"].to(device)\n",
        "            labels = batch[\"label\"].to(device)\n",
        "\n",
        "            outputs = model(input_ids=input_ids, attention_mask=attention_mask)\n",
        "            loss = criterion(outputs, labels)\n",
        "            total_loss += loss.item()\n",
        "\n",
        "            all_preds.extend(outputs.cpu().numpy())\n",
        "            all_labels.extend(labels.cpu().numpy())\n",
        "\n",
        "    avg_loss = total_loss / len(test_loader)\n",
        "    print(f\"Test MSE Loss: {avg_loss:.4f}\")\n",
        "    return all_preds, all_labels\n"
      ],
      "metadata": {
        "id": "rSEhYIsXdq9K"
      },
      "execution_count": 9,
      "outputs": []
    },
    {
      "cell_type": "code",
      "source": [
        "def plot_predictions(preds, labels):\n",
        "    plt.figure(figsize=(6, 6))\n",
        "    plt.scatter(labels, preds, alpha=0.5, color='blue')\n",
        "    plt.plot([0, 1], [0, 1], linestyle='--', color='red')  # ideal diagonal\n",
        "    plt.xlabel(\"True Suitability Score\")\n",
        "    plt.ylabel(\"Predicted Score\")\n",
        "    plt.title(\"Predicted vs. True Suitability\")\n",
        "    plt.grid(True)\n",
        "    plt.tight_layout()\n",
        "    plt.show()"
      ],
      "metadata": {
        "id": "XPUI_3d7dtCc"
      },
      "execution_count": 10,
      "outputs": []
    },
    {
      "cell_type": "code",
      "source": [
        "def predict_suitability(model, tokenizer, jd_text, resume_text, device):\n",
        "    model.eval()\n",
        "\n",
        "    encoding = tokenizer(\n",
        "        jd_text, resume_text,\n",
        "        return_tensors=\"pt\",\n",
        "        padding=\"max_length\",\n",
        "        truncation=True,\n",
        "        max_length=512\n",
        "    )\n",
        "\n",
        "    input_ids = encoding[\"input_ids\"].to(device)\n",
        "    attention_mask = encoding[\"attention_mask\"].to(device)\n",
        "\n",
        "    with torch.no_grad():\n",
        "        output = model(input_ids=input_ids, attention_mask=attention_mask)\n",
        "\n",
        "    return output.item()\n"
      ],
      "metadata": {
        "id": "KnJ-PRaIdugd"
      },
      "execution_count": 11,
      "outputs": []
    },
    {
      "cell_type": "code",
      "source": [
        "# Setup variables\n",
        "device = torch.device(\"cuda\" if torch.cuda.is_available() else \"cpu\")"
      ],
      "metadata": {
        "id": "A8QLSQNPdwto"
      },
      "execution_count": 14,
      "outputs": []
    },
    {
      "cell_type": "code",
      "source": [
        "# Setup all models\n",
        "title_model = JobFitModel().to(device)\n",
        "title_optimizer = torch.optim.AdamW(title_model.parameters(), lr=2e-5)\n",
        "title_criterion = nn.MSELoss()\n",
        "\n",
        "skills_model = JobFitModel().to(device)\n",
        "skills_optimizer = torch.optim.AdamW(skills_model.parameters(), lr=2e-5)\n",
        "skills_criterion = nn.MSELoss()\n",
        "\n",
        "resp_model = JobFitModel().to(device)\n",
        "resp_optimizer = torch.optim.AdamW(resp_model.parameters(), lr=2e-5)\n",
        "resp_criterion = nn.MSELoss()\n"
      ],
      "metadata": {
        "id": "faCFPFxveAFF"
      },
      "execution_count": 15,
      "outputs": []
    },
    {
      "cell_type": "code",
      "source": [
        "# Train title match model\n",
        "train_model(title_model, title_train_loader, title_optimizer, title_criterion, device)"
      ],
      "metadata": {
        "colab": {
          "base_uri": "https://localhost:8080/"
        },
        "id": "UnqZR2DzeIFR",
        "outputId": "417bb1ca-b1e4-49f8-e739-2b3672a73bed"
      },
      "execution_count": 17,
      "outputs": [
        {
          "output_type": "stream",
          "name": "stderr",
          "text": [
            "Epoch 1: 100%|██████████| 4233/4233 [11:56<00:00,  5.91it/s, loss=0.000879]\n"
          ]
        },
        {
          "output_type": "stream",
          "name": "stdout",
          "text": [
            "Epoch 1 training loss: 0.0015\n"
          ]
        },
        {
          "output_type": "stream",
          "name": "stderr",
          "text": [
            "Epoch 2: 100%|██████████| 4233/4233 [11:56<00:00,  5.91it/s, loss=0.000473]\n"
          ]
        },
        {
          "output_type": "stream",
          "name": "stdout",
          "text": [
            "Epoch 2 training loss: 0.0006\n"
          ]
        },
        {
          "output_type": "stream",
          "name": "stderr",
          "text": [
            "Epoch 3: 100%|██████████| 4233/4233 [11:55<00:00,  5.91it/s, loss=0.000278]"
          ]
        },
        {
          "output_type": "stream",
          "name": "stdout",
          "text": [
            "Epoch 3 training loss: 0.0004\n"
          ]
        },
        {
          "output_type": "stream",
          "name": "stderr",
          "text": [
            "\n"
          ]
        }
      ]
    },
    {
      "cell_type": "code",
      "source": [
        "# Train skills match model\n",
        "train_model(skills_model, skills_train_loader, skills_optimizer, skills_criterion, device)"
      ],
      "metadata": {
        "colab": {
          "base_uri": "https://localhost:8080/"
        },
        "id": "xU4poKNseKlC",
        "outputId": "e5582a0b-adc4-485d-aae9-b0d32c8bf5bd"
      },
      "execution_count": 18,
      "outputs": [
        {
          "output_type": "stream",
          "name": "stderr",
          "text": [
            "Epoch 1: 100%|██████████| 4233/4233 [12:17<00:00,  5.74it/s, loss=0.000445]\n"
          ]
        },
        {
          "output_type": "stream",
          "name": "stdout",
          "text": [
            "Epoch 1 training loss: 0.0030\n"
          ]
        },
        {
          "output_type": "stream",
          "name": "stderr",
          "text": [
            "Epoch 2: 100%|██████████| 4233/4233 [12:17<00:00,  5.74it/s, loss=0.00131]\n"
          ]
        },
        {
          "output_type": "stream",
          "name": "stdout",
          "text": [
            "Epoch 2 training loss: 0.0015\n"
          ]
        },
        {
          "output_type": "stream",
          "name": "stderr",
          "text": [
            "Epoch 3: 100%|██████████| 4233/4233 [12:17<00:00,  5.74it/s, loss=0.000851]"
          ]
        },
        {
          "output_type": "stream",
          "name": "stdout",
          "text": [
            "Epoch 3 training loss: 0.0011\n"
          ]
        },
        {
          "output_type": "stream",
          "name": "stderr",
          "text": [
            "\n"
          ]
        }
      ]
    },
    {
      "cell_type": "code",
      "source": [
        "# Train responsibilities match model\n",
        "train_model(resp_model, resp_train_loader, resp_optimizer, resp_criterion, device)"
      ],
      "metadata": {
        "colab": {
          "base_uri": "https://localhost:8080/"
        },
        "id": "t0xxXUV6eMzm",
        "outputId": "65e8ec6e-7090-40e9-f357-c44e4bda6c89"
      },
      "execution_count": 19,
      "outputs": [
        {
          "output_type": "stream",
          "name": "stderr",
          "text": [
            "Epoch 1: 100%|██████████| 4233/4233 [13:02<00:00,  5.41it/s, loss=0.00111]\n"
          ]
        },
        {
          "output_type": "stream",
          "name": "stdout",
          "text": [
            "Epoch 1 training loss: 0.0032\n"
          ]
        },
        {
          "output_type": "stream",
          "name": "stderr",
          "text": [
            "Epoch 2: 100%|██████████| 4233/4233 [13:03<00:00,  5.41it/s, loss=0.00422]\n"
          ]
        },
        {
          "output_type": "stream",
          "name": "stdout",
          "text": [
            "Epoch 2 training loss: 0.0014\n"
          ]
        },
        {
          "output_type": "stream",
          "name": "stderr",
          "text": [
            "Epoch 3: 100%|██████████| 4233/4233 [13:02<00:00,  5.41it/s, loss=0.000774]"
          ]
        },
        {
          "output_type": "stream",
          "name": "stdout",
          "text": [
            "Epoch 3 training loss: 0.0010\n"
          ]
        },
        {
          "output_type": "stream",
          "name": "stderr",
          "text": [
            "\n"
          ]
        }
      ]
    },
    {
      "cell_type": "code",
      "source": [
        "# Evaluate Model\n",
        "# Evaluate Title Match\n",
        "title_preds, title_labels = evaluate_model(title_model, title_test_loader, title_criterion, device)\n",
        "plot_predictions(title_preds, title_labels)\n",
        "\n",
        "# Evaluate Skills Match\n",
        "skills_preds, skills_labels = evaluate_model(skills_model, skills_test_loader, skills_criterion, device)\n",
        "plot_predictions(skills_preds, skills_labels)\n",
        "\n",
        "# Evaluate Responsibilities Match\n",
        "resp_preds, resp_labels = evaluate_model(resp_model, resp_test_loader, resp_criterion, device)\n",
        "plot_predictions(resp_preds, resp_labels)\n"
      ],
      "metadata": {
        "colab": {
          "base_uri": "https://localhost:8080/",
          "height": 1000
        },
        "id": "TttAj2YfeOHe",
        "outputId": "4c9e603f-f911-4144-ecfb-67560de61368"
      },
      "execution_count": 22,
      "outputs": [
        {
          "output_type": "stream",
          "name": "stdout",
          "text": [
            "Test MSE Loss: 0.0002\n"
          ]
        },
        {
          "output_type": "display_data",
          "data": {
            "text/plain": [
              "<Figure size 600x600 with 1 Axes>"
            ],
            "image/png": "[encoded data removed]"
          },
          "metadata": {}
        },
        {
          "output_type": "stream",
          "name": "stdout",
          "text": [
            "Test MSE Loss: 0.0008\n"
          ]
        },
        {
          "output_type": "display_data",
          "data": {
            "text/plain": [
              "<Figure size 600x600 with 1 Axes>"
            ],
            "image/png": "[encoded data removed]"
          },
          "metadata": {}
        },
        {
          "output_type": "stream",
          "name": "stdout",
          "text": [
            "Test MSE Loss: 0.0009\n"
          ]
        },
        {
          "output_type": "display_data",
          "data": {
            "text/plain": [
              "<Figure size 600x600 with 1 Axes>"
            ],
            "image/png": "[encoded data removed]"
          },
          "metadata": {}
        }
      ]
    },
    {
      "cell_type": "code",
      "source": [
        "# Use the model\n",
        "# Job Posting Fields\n",
        "job_title = \"User Researcher\"\n",
        "job_skills = \"User research methods, usability testing, data analysis\"\n",
        "job_responsibilities = \"Conduct interviews and usability studies. Synthesize user insights.\"\n",
        "job_description = \"Understand user behavior and feedback.\"\n",
        "\n",
        "# Resume Fields\n",
        "resume_role = \"Market Researcher\"\n",
        "resume_skills = \"Qualitative research, A/B testing, surveys\"\n",
        "resume_experience = \"- Conducted focus groups\\n- Analyzed survey data\\n- Presented user insights\"\n",
        "\n",
        "# Title Match Prediction\n",
        "title_score = predict_suitability(\n",
        "    title_model,\n",
        "    tokenizer,\n",
        "    jd_text=job_title,\n",
        "    resume_text=resume_role,\n",
        "    device=device\n",
        ")\n",
        "\n",
        "# Skills Match Prediction\n",
        "skills_score = predict_suitability(\n",
        "    skills_model,\n",
        "    tokenizer,\n",
        "    jd_text=job_skills,\n",
        "    resume_text=resume_skills,\n",
        "    device=device\n",
        ")\n",
        "\n",
        "# Responsibilities Match Prediction\n",
        "responsibilities_input = job_responsibilities + \" \" + job_description\n",
        "resp_score = predict_suitability(\n",
        "    resp_model,\n",
        "    tokenizer,\n",
        "    jd_text=responsibilities_input,\n",
        "    resume_text=resume_experience,\n",
        "    device=device\n",
        ")\n",
        "print(f\"Title Match Score:           {title_score:.3f}\")\n",
        "print(f\"Skills Match Score:          {skills_score:.3f}\")\n",
        "print(f\"Responsibilities Match Score:{resp_score:.3f}\")\n",
        "\n",
        "overall_score = (title_score + skills_score + resp_score) / 3\n",
        "print(f\"\\nOverall Predicted Suitability: {overall_score:.3f}\")\n"
      ],
      "metadata": {
        "colab": {
          "base_uri": "https://localhost:8080/"
        },
        "id": "4Swq5UlJePaP",
        "outputId": "0a459213-7be7-487a-97a5-a69d2c14ccc0"
      },
      "execution_count": 23,
      "outputs": [
        {
          "output_type": "stream",
          "name": "stdout",
          "text": [
            "Title Match Score:           0.610\n",
            "Skills Match Score:          0.524\n",
            "Responsibilities Match Score:0.564\n",
            "\n",
            "Overall Predicted Suitability: 0.566\n"
          ]
        }
      ]
    },
    {
      "cell_type": "code",
      "source": [
        "torch.save(title_model.state_dict(), \"title_model.pt\")\n",
        "torch.save(skills_model.state_dict(), \"skills_model.pt\")\n",
        "torch.save(resp_model.state_dict(), \"resp_model.pt\")\n"
      ],
      "metadata": {
        "id": "5VLIv868w4bH"
      },
      "execution_count": 24,
      "outputs": []
    }
  ]
}